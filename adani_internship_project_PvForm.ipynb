{
  "cells": [
    {
      "cell_type": "markdown",
      "metadata": {
        "id": "view-in-github",
        "colab_type": "text"
      },
      "source": [
        "<a href=\"https://colab.research.google.com/github/rahilsaiyed1711/AboutUsPage/blob/main/adani_internship_project_PvForm.ipynb\" target=\"_parent\"><img src=\"https://colab.research.google.com/assets/colab-badge.svg\" alt=\"Open In Colab\"/></a>"
      ]
    },
    {
      "cell_type": "code",
      "execution_count": null,
      "metadata": {
        "id": "5aCTDBUczX4y"
      },
      "outputs": [],
      "source": [
        "!pip install flask_ngrok"
      ]
    },
    {
      "cell_type": "code",
      "execution_count": null,
      "metadata": {
        "colab": {
          "base_uri": "https://localhost:8080/",
          "height": 173
        },
        "id": "5EZn5eYQzeIs",
        "outputId": "4b471110-d09c-4f4f-b6ee-640ecbd4c640"
      },
      "outputs": [
        {
          "output_type": "stream",
          "name": "stdout",
          "text": [
            "Public URL: https://x241ifgdw3-496ff2e9c6d22116-5000-colab.googleusercontent.com/\n",
            " * Serving Flask app '__main__'\n",
            " * Debug mode: off\n"
          ]
        },
        {
          "output_type": "stream",
          "name": "stderr",
          "text": [
            "INFO:werkzeug:\u001b[31m\u001b[1mWARNING: This is a development server. Do not use it in a production deployment. Use a production WSGI server instead.\u001b[0m\n",
            " * Running on http://127.0.0.1:5000\n",
            "INFO:werkzeug:\u001b[33mPress CTRL+C to quit\u001b[0m\n",
            "INFO:werkzeug:127.0.0.1 - - [10/Jul/2024 09:51:45] \"GET / HTTP/1.1\" 200 -\n",
            "INFO:werkzeug:127.0.0.1 - - [10/Jul/2024 09:51:46] \"\u001b[33mGET /favicon.ico HTTP/1.1\u001b[0m\" 404 -\n",
            "INFO:werkzeug:127.0.0.1 - - [10/Jul/2024 09:51:48] \"GET /load_data HTTP/1.1\" 200 -\n"
          ]
        }
      ],
      "source": [
        "import pandas as pd\n",
        "from google.colab import files\n",
        "import io\n",
        "from flask import Flask, request, jsonify\n",
        "from google.colab.output import eval_js\n",
        "from IPython.display import display, Javascript\n",
        "\n",
        "# Create a sample CSV file\n",
        "sample_data = {\n",
        "    'Block': ['Site 1', 'Site 2', 'Site 3'],\n",
        "    'Inverter make': ['Sample Address 1', 'Sample Address 2', 'Sample Address 3'],\n",
        "    'Model': [342307, 400001, 500001],\n",
        "    'Inverter No.': [100, 150, 200],\n",
        "    'SCB': ['Bapoo', 'Site 2', 'Site 3'],\n",
        "    'No. of string': ['Sample Address 1', 'Sample Address 2', 'Sample Address 3'],\n",
        "    'Modules/strings': [342307, 400001, 500001],\n",
        "    'Total Modules': [100, 150, 200],\n",
        "    'Module make': ['Bapoo', 'Site 2', 'Site 3'],\n",
        "    'Model of': [342307, 400001, 500001],\n",
        "    'P (Wp)': [100, 150, 200],\n",
        "    'DC Capacity(kW)':[234,234,256],\n",
        "    'Y connector if connected':['No','No','No'],\n",
        "    'Orientation(Fixed/Seasonal/Tracker)':['fixed','fixed','fixed'],\n",
        "    'Tracker make':['Na','Na','Na'],\n",
        "    'Nearest WMS':['WMS-1','WMS-1','WMS-1'],\n",
        "    'Shadow if there any':['Na','Na','Na']\n",
        "}\n",
        "df = pd.DataFrame(sample_data)\n",
        "df.to_csv('solar_plants.csv', index=False)\n",
        "\n",
        "app = Flask(__name__)\n",
        "\n",
        "@app.route('/')\n",
        "def home():\n",
        "    return \"\"\"\n",
        "    <!DOCTYPE html>\n",
        "<html lang=\"en\">\n",
        "<head>\n",
        "    <meta charset=\"UTF-8\">\n",
        "    <meta name=\"viewport\" content=\"width=device-width, initial-scale=1.0\">\n",
        "    <title>PV Form</title>\n",
        "    <style>\n",
        "        body {\n",
        "            font-family: Arial, sans-serif;\n",
        "            background-color: #f0f0f0;\n",
        "            margin: 0;\n",
        "            padding: 20px;\n",
        "        }\n",
        "\n",
        "        h1 {\n",
        "            color: #333;\n",
        "            text-align: center;\n",
        "        }\n",
        "\n",
        "        button {\n",
        "            display: block;\n",
        "            width: 150px;\n",
        "            padding: 10px;\n",
        "            margin: 20px auto;\n",
        "            background-color: #007BFF;\n",
        "            color: white;\n",
        "            border: none;\n",
        "            border-radius: 5px;\n",
        "            cursor: pointer;\n",
        "            transition: background-color 0.3s ease;\n",
        "        }\n",
        "\n",
        "        button:hover {\n",
        "            background-color: #0056b3;\n",
        "        }\n",
        "\n",
        "        #data {\n",
        "            margin-top: 20px;\n",
        "        }\n",
        "\n",
        "        table {\n",
        "            width: 100%;\n",
        "            border-collapse: collapse;\n",
        "            margin-top: 20px;\n",
        "            background-color: white;\n",
        "            box-shadow: 0 2px 4px rgba(0,0,0,0.1);\n",
        "        }\n",
        "\n",
        "        th, td {\n",
        "            padding: 10px;\n",
        "            text-align: left;\n",
        "            border: 1px solid #ddd;\n",
        "        }\n",
        "\n",
        "        th {\n",
        "            background-color: #007BFF;\n",
        "            color: white;\n",
        "        }\n",
        "\n",
        "        tr:nth-child(even) {\n",
        "            background-color: #f2f2f2;\n",
        "        }\n",
        "\n",
        "        td[contenteditable=\"true\"] {\n",
        "            background-color: #fffdd0;\n",
        "            cursor: pointer;\n",
        "        }\n",
        "\n",
        "        td[contenteditable=\"true\"]:hover {\n",
        "            background-color: #fffacd;\n",
        "        }\n",
        "    </style>\n",
        "</head>\n",
        "<body>\n",
        "    <h1>PV Form</h1>\n",
        "    <button onclick=\"loadData()\">Load Data</button>\n",
        "    <div id=\"data\"></div>\n",
        "    <button onclick=\"saveData()\">Save Data</button>\n",
        "\n",
        "    <script>\n",
        "    function loadData() {\n",
        "        fetch('/load_data')\n",
        "            .then(response => response.json())\n",
        "            .then(data => {\n",
        "                let table = '<table><tr>';\n",
        "                for (let key in data[0]) {\n",
        "                    table += `<th>${key}</th>`;\n",
        "                }\n",
        "                table += '</tr>';\n",
        "                data.forEach(row => {\n",
        "                    table += '<tr>';\n",
        "                    for (let key in row) {\n",
        "                        table += `<td contenteditable=\"true\">${row[key]}</td>`;\n",
        "                    }\n",
        "                    table += '</tr>';\n",
        "                });\n",
        "                table += '</table>';\n",
        "                document.getElementById('data').innerHTML = table;\n",
        "            });\n",
        "    }\n",
        "\n",
        "    function saveData() {\n",
        "        let data = [];\n",
        "        let table = document.querySelector('table');\n",
        "        let headers = Array.from(table.querySelectorAll('th')).map(th => th.textContent);\n",
        "        let rows = table.querySelectorAll('tr');\n",
        "        for (let i = 1; i < rows.length; i++) {\n",
        "            let row = {};\n",
        "            let cells = rows[i].querySelectorAll('td');\n",
        "            headers.forEach((header, index) => {\n",
        "                row[header] = cells[index].textContent;\n",
        "            });\n",
        "            data.push(row);\n",
        "        }\n",
        "        fetch('/save_data', {\n",
        "            method: 'POST',\n",
        "            headers: {\n",
        "                'Content-Type': 'application/json',\n",
        "            },\n",
        "            body: JSON.stringify(data),\n",
        "        })\n",
        "        .then(response => response.json())\n",
        "        .then(result => alert(result.message));\n",
        "    }\n",
        "    </script>\n",
        "</body>\n",
        "</html>\n",
        "    \"\"\"\n",
        "\n",
        "@app.route('/load_data')\n",
        "def load_data():\n",
        "    df = pd.read_csv('solar_plants.csv')\n",
        "    return jsonify(df.to_dict(orient='records'))\n",
        "\n",
        "@app.route('/save_data', methods=['POST'])\n",
        "def save_data():\n",
        "    data = request.json\n",
        "    df = pd.DataFrame(data)\n",
        "    df.to_csv('solar_plants.csv', index=False)\n",
        "    return jsonify({\"message\": \"Data saved successfully\"})\n",
        "\n",
        "# Function to create a public URL\n",
        "def create_public_url():\n",
        "    return eval_js(\"\"\"\n",
        "        (async () => {\n",
        "            const url = await google.colab.kernel.proxyPort(5000);\n",
        "            return url;\n",
        "        })()\n",
        "    \"\"\")\n",
        "\n",
        "# Run the Flask app\n",
        "if __name__ == '__main__':\n",
        "    public_url = create_public_url()\n",
        "    print(f\"Public URL: {public_url}\")\n",
        "    app.run(port=5000)"
      ]
    },
    {
      "cell_type": "code",
      "execution_count": null,
      "metadata": {
        "colab": {
          "base_uri": "https://localhost:8080/",
          "height": 17
        },
        "id": "8f6-bc-P0F5-",
        "outputId": "1da38e21-60d3-4fe5-dc2a-7831c5170129"
      },
      "outputs": [
        {
          "data": {
            "application/javascript": [
              "\n",
              "    async function download(id, filename, size) {\n",
              "      if (!google.colab.kernel.accessAllowed) {\n",
              "        return;\n",
              "      }\n",
              "      const div = document.createElement('div');\n",
              "      const label = document.createElement('label');\n",
              "      label.textContent = `Downloading \"${filename}\": `;\n",
              "      div.appendChild(label);\n",
              "      const progress = document.createElement('progress');\n",
              "      progress.max = size;\n",
              "      div.appendChild(progress);\n",
              "      document.body.appendChild(div);\n",
              "\n",
              "      const buffers = [];\n",
              "      let downloaded = 0;\n",
              "\n",
              "      const channel = await google.colab.kernel.comms.open(id);\n",
              "      // Send a message to notify the kernel that we're ready.\n",
              "      channel.send({})\n",
              "\n",
              "      for await (const message of channel.messages) {\n",
              "        // Send a message to notify the kernel that we're ready.\n",
              "        channel.send({})\n",
              "        if (message.buffers) {\n",
              "          for (const buffer of message.buffers) {\n",
              "            buffers.push(buffer);\n",
              "            downloaded += buffer.byteLength;\n",
              "            progress.value = downloaded;\n",
              "          }\n",
              "        }\n",
              "      }\n",
              "      const blob = new Blob(buffers, {type: 'application/binary'});\n",
              "      const a = document.createElement('a');\n",
              "      a.href = window.URL.createObjectURL(blob);\n",
              "      a.download = filename;\n",
              "      div.appendChild(a);\n",
              "      a.click();\n",
              "      div.remove();\n",
              "    }\n",
              "  "
            ],
            "text/plain": [
              "<IPython.core.display.Javascript object>"
            ]
          },
          "metadata": {},
          "output_type": "display_data"
        },
        {
          "data": {
            "application/javascript": [
              "download(\"download_584ae716-224c-4b8b-a654-66a8306cd5b9\", \"solar_plants.csv\", 451)"
            ],
            "text/plain": [
              "<IPython.core.display.Javascript object>"
            ]
          },
          "metadata": {},
          "output_type": "display_data"
        }
      ],
      "source": [
        "files.download('solar_plants.csv')"
      ]
    },
    {
      "cell_type": "code",
      "execution_count": null,
      "metadata": {
        "id": "TGZU_-_N0hqg"
      },
      "outputs": [],
      "source": []
    }
  ],
  "metadata": {
    "colab": {
      "provenance": [],
      "include_colab_link": true
    },
    "kernelspec": {
      "display_name": "Python 3",
      "name": "python3"
    },
    "language_info": {
      "name": "python"
    }
  },
  "nbformat": 4,
  "nbformat_minor": 0
}